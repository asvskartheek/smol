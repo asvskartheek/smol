{
 "cells": [
  {
   "cell_type": "code",
   "execution_count": 1,
   "metadata": {},
   "outputs": [],
   "source": [
    "import numpy as np"
   ]
  },
  {
   "cell_type": "code",
   "execution_count": 2,
   "metadata": {},
   "outputs": [],
   "source": [
    "n = 5\n",
    "i = 4\n",
    "o = 3"
   ]
  },
  {
   "cell_type": "code",
   "execution_count": 38,
   "metadata": {},
   "outputs": [
    {
     "name": "stdout",
     "output_type": "stream",
     "text": [
      "[[0.73105858]\n",
      " [0.88079708]\n",
      " [0.95257413]]\n",
      "(3, 1) (3, 1)\n"
     ]
    }
   ],
   "source": [
    "arr = np.array([[1.],[2.],[3.]])\n",
    "out = 1./(1+np.exp(-arr))\n",
    "print(out)\n",
    "print(out.shape,arr.shape)"
   ]
  },
  {
   "cell_type": "code",
   "execution_count": 39,
   "metadata": {},
   "outputs": [
    {
     "name": "stdout",
     "output_type": "stream",
     "text": [
      "[[0.19661193]\n",
      " [0.10499359]\n",
      " [0.04517666]]\n",
      "[0.11559406]\n"
     ]
    }
   ],
   "source": [
    "mask = np.multiply(out,1-out)\n",
    "print(mask)\n",
    "dD = np.mean(mask,axis=0)\n",
    "print(dD)"
   ]
  },
  {
   "cell_type": "code",
   "execution_count": 40,
   "metadata": {},
   "outputs": [
    {
     "name": "stdout",
     "output_type": "stream",
     "text": [
      "[[9.02738505e-04 2.45389767e-03 6.67038546e-03 9.89972978e-01]\n",
      " [3.20586033e-02 8.71443187e-02 2.36882818e-01 6.43914260e-01]\n",
      " [3.20586033e-02 8.71443187e-02 2.36882818e-01 6.43914260e-01]]\n",
      "(3, 4) (3, 4)\n"
     ]
    }
   ],
   "source": [
    "arr = np.array([[1.,2.,3.,8.],[4.,5.,6.,7.],[9.,10.,11.,12.]])\n",
    "exp_arr = np.exp(arr)\n",
    "out = exp_arr/(np.sum(exp_arr,axis=1).reshape(-1,1))\n",
    "print(out)\n",
    "print(arr.shape,out.shape)"
   ]
  },
  {
   "cell_type": "code",
   "execution_count": 41,
   "metadata": {},
   "outputs": [],
   "source": [
    "dU = np.array([1.,2.,3.,4.])"
   ]
  },
  {
   "cell_type": "code",
   "execution_count": 42,
   "metadata": {},
   "outputs": [
    {
     "name": "stdout",
     "output_type": "stream",
     "text": [
      "[[0.00090192 0.00244788 0.00662589 0.00992648]\n",
      " [0.03103085 0.07955019 0.18076935 0.22928869]\n",
      " [0.03103085 0.07955019 0.18076935 0.22928869]]\n",
      "[0.02098787 0.05384942 0.12272153 0.15616795]\n",
      "[0.02098787 0.10769883 0.36816459 0.6246718 ]\n"
     ]
    }
   ],
   "source": [
    "mask = np.multiply(out,1-out)\n",
    "print(mask)\n",
    "dD = np.mean(mask,axis=0)\n",
    "print(dD)\n",
    "print(np.multiply(dU,dD))"
   ]
  },
  {
   "cell_type": "code",
   "execution_count": 50,
   "metadata": {},
   "outputs": [
    {
     "name": "stdout",
     "output_type": "stream",
     "text": [
      "[[1.  1.  0.  0.1]\n",
      " [0.1 0.  0.  1. ]]\n",
      "[[1. 1. 0. 1.]\n",
      " [1. 0. 0. 1.]]\n",
      "[1. 1. 0. 4.]\n"
     ]
    }
   ],
   "source": [
    "arr = [[1.,1.,-0.1,0.1],[0.1,-0.1,-0.2,1]]\n",
    "out = np.maximum(arr,0)\n",
    "print(out)\n",
    "mask = (out > 0).astype(np.float64)\n",
    "print(mask)\n",
    "dD = np.multiply(dU,np.mean(mask,axis=0))\n",
    "print(dD)"
   ]
  },
  {
   "cell_type": "code",
   "execution_count": 3,
   "metadata": {},
   "outputs": [
    {
     "name": "stdout",
     "output_type": "stream",
     "text": [
      "(5, 4)\n"
     ]
    }
   ],
   "source": [
    "X = np.array([[1,2,3,4],[5,6,7,8],[9,10,11,12],[13,14,15,16],[17,18,19,20]])\n",
    "print(X.shape)"
   ]
  },
  {
   "cell_type": "code",
   "execution_count": 4,
   "metadata": {},
   "outputs": [
    {
     "name": "stdout",
     "output_type": "stream",
     "text": [
      "(4, 3)\n"
     ]
    }
   ],
   "source": [
    "W = np.array([[1,2,3],[4,5,6],[7,8,9],[10,11,12]])\n",
    "print(W.shape)"
   ]
  },
  {
   "cell_type": "code",
   "execution_count": 5,
   "metadata": {},
   "outputs": [
    {
     "name": "stdout",
     "output_type": "stream",
     "text": [
      "(3,)\n"
     ]
    }
   ],
   "source": [
    "b = np.array([1,2,3])\n",
    "print(b.shape)"
   ]
  },
  {
   "cell_type": "code",
   "execution_count": 6,
   "metadata": {},
   "outputs": [
    {
     "name": "stdout",
     "output_type": "stream",
     "text": [
      "[14 32 50 68]\n"
     ]
    }
   ],
   "source": [
    "print(W.dot(b))"
   ]
  },
  {
   "cell_type": "code",
   "execution_count": 7,
   "metadata": {},
   "outputs": [
    {
     "name": "stdout",
     "output_type": "stream",
     "text": [
      "[[-9223372036854775763  8070459316572356053  3180211159507796109]\n",
      " [ 2466321565078348884  3257281401135968406  3617298904385859785]\n",
      " [ 4121976961963733105  7311068618032822687  2466321603649696791]\n",
      " [ 3828686942337445489 -2305834224891695209     1697634184685933]]\n",
      "CPU times: user 954 µs, sys: 631 µs, total: 1.59 ms\n",
      "Wall time: 1.64 ms\n"
     ]
    }
   ],
   "source": [
    "%%time\n",
    "out = np.empty_like(W)\n",
    "for row in X:\n",
    "    b = b.reshape(-1,1)\n",
    "    row = row.reshape(-1,1)\n",
    "    out += np.dot(row,b.T)\n",
    "print(out)"
   ]
  },
  {
   "cell_type": "code",
   "execution_count": 8,
   "metadata": {},
   "outputs": [],
   "source": [
    "b=b.reshape(-1,)"
   ]
  },
  {
   "cell_type": "code",
   "execution_count": 9,
   "metadata": {},
   "outputs": [
    {
     "data": {
      "text/plain": [
       "(3,)"
      ]
     },
     "execution_count": 9,
     "metadata": {},
     "output_type": "execute_result"
    }
   ],
   "source": [
    "b.shape"
   ]
  },
  {
   "cell_type": "code",
   "execution_count": 10,
   "metadata": {},
   "outputs": [
    {
     "data": {
      "text/plain": [
       "(4, 1)"
      ]
     },
     "execution_count": 10,
     "metadata": {},
     "output_type": "execute_result"
    }
   ],
   "source": [
    "row.shape"
   ]
  },
  {
   "cell_type": "code",
   "execution_count": 11,
   "metadata": {},
   "outputs": [
    {
     "data": {
      "text/plain": [
       "array([[17, 18, 19, 20]])"
      ]
     },
     "execution_count": 11,
     "metadata": {},
     "output_type": "execute_result"
    }
   ],
   "source": [
    "row.T"
   ]
  },
  {
   "cell_type": "code",
   "execution_count": 12,
   "metadata": {},
   "outputs": [],
   "source": [
    "%load_ext autoreload\n",
    "%autoreload 2"
   ]
  },
  {
   "cell_type": "code",
   "execution_count": 13,
   "metadata": {},
   "outputs": [
    {
     "name": "stdout",
     "output_type": "stream",
     "text": [
      "3.4295968561838537\n"
     ]
    }
   ],
   "source": [
    "y_true = np.array([1,0,0,1])\n",
    "y_pred = np.array([0.9,0.1,0.8,0.2])\n",
    "loss = np.sum(-np.multiply(y_true,np.log(y_pred))-np.multiply((1-y_true),np.log(1-y_pred)))\n",
    "print(loss)"
   ]
  },
  {
   "cell_type": "code",
   "execution_count": 14,
   "metadata": {},
   "outputs": [
    {
     "name": "stdout",
     "output_type": "stream",
     "text": [
      "[-1.11111111  1.11111111  5.         -5.        ]\n"
     ]
    }
   ],
   "source": [
    "grad = -np.divide(y_true,y_pred)+np.divide(1-y_true,1-y_pred)\n",
    "print(grad)"
   ]
  },
  {
   "cell_type": "code",
   "execution_count": 15,
   "metadata": {},
   "outputs": [
    {
     "data": {
      "text/plain": [
       "array([-1.11111111,  1.11111111,  5.        , -5.        ])"
      ]
     },
     "execution_count": 15,
     "metadata": {},
     "output_type": "execute_result"
    }
   ],
   "source": [
    "1*grad"
   ]
  },
  {
   "cell_type": "code",
   "execution_count": 22,
   "metadata": {},
   "outputs": [],
   "source": [
    "import pandas as pd\n",
    "df = pd.read_csv('diabetes.csv')\n",
    "df = np.array(df)\n",
    "y = df[:,-1]\n",
    "X = df[:,:-1]"
   ]
  },
  {
   "cell_type": "code",
   "execution_count": 23,
   "metadata": {},
   "outputs": [],
   "source": [
    "X = (X-X.mean())/(X.std())"
   ]
  },
  {
   "cell_type": "code",
   "execution_count": 24,
   "metadata": {},
   "outputs": [],
   "source": [
    "from sklearn.model_selection import train_test_split\n",
    "X_train, X_test,y_train, y_test = train_test_split(X,y,test_size=0.2,random_state=0)"
   ]
  },
  {
   "cell_type": "code",
   "execution_count": 47,
   "metadata": {},
   "outputs": [
    {
     "name": "stdout",
     "output_type": "stream",
     "text": [
      "-----------------------------------\n",
      "FC Layer\t\t\t90\n",
      "-----------------------------------\n",
      "FC Layer\t\t\t110\n",
      "-----------------------------------\n",
      "FC Layer\t\t\t110\n",
      "-----------------------------------\n",
      "FC Layer\t\t\t11\n",
      "-----------------------------------\n",
      "Total Parameters\t\t321\n",
      "-----------------------------------\n",
      "\n"
     ]
    }
   ],
   "source": [
    "from models.sequential import Sequential\n",
    "from layers.fc import *\n",
    "m = Sequential(loss='bce')\n",
    "m.add_layer(FC(in_dim=X.shape[1],out_dim=10))\n",
    "m.add_layer(FC(10,10))\n",
    "m.add_layer(FC(10,10))\n",
    "m.add_layer(FC(10,1,activation='sigmoid'))\n",
    "m.describe()"
   ]
  },
  {
   "cell_type": "code",
   "execution_count": 46,
   "metadata": {},
   "outputs": [
    {
     "name": "stdout",
     "output_type": "stream",
     "text": [
      "Loss: 400.3270, 1/1000\n",
      "Loss: 400.3590, 100/1000\n",
      "Loss: 400.2548, 200/1000\n",
      "Loss: 398.9319, 300/1000\n",
      "Loss: 396.8958, 400/1000\n",
      "Loss: 419.9317, 500/1000\n",
      "Loss: 818.9896, 600/1000\n",
      "Loss: 426.5454, 700/1000\n",
      "Loss: 396.5545, 800/1000\n"
     ]
    },
    {
     "name": "stderr",
     "output_type": "stream",
     "text": [
      "/Users/sukruthkartheek/smol/losses/bce_loss.py:13: RuntimeWarning: invalid value encountered in log\n",
      "  loss = np.sum(-np.multiply(self.y_true,np.log(self.y_pred))-np.multiply((1-self.y_true),np.log(1-self.y_pred)))\n"
     ]
    },
    {
     "name": "stdout",
     "output_type": "stream",
     "text": [
      "Loss: nan, 900/1000\n",
      "Loss: nan, 1000/1000\n"
     ]
    }
   ],
   "source": [
    "m.train(X_train,y_train,lr=6e-3,epochs=1_000,debug=100)"
   ]
  },
  {
   "cell_type": "code",
   "execution_count": 38,
   "metadata": {},
   "outputs": [
    {
     "name": "stdout",
     "output_type": "stream",
     "text": [
      "Loss: 539.5412, 1/1000\n",
      "Loss: 539.2731, 100/1000\n",
      "Loss: 539.2366, 200/1000\n",
      "Loss: 539.4456, 300/1000\n",
      "Loss: 539.9165, 400/1000\n",
      "Loss: 540.6690, 500/1000\n",
      "Loss: 541.9237, 600/1000\n",
      "Loss: 544.2309, 700/1000\n",
      "Loss: 547.1606, 800/1000\n",
      "Loss: 550.8260, 900/1000\n",
      "Loss: 555.7020, 1000/1000\n"
     ]
    }
   ],
   "source": [
    "m.train(X_train,y_train,lr=1e-3,epochs=1_000,debug=100)"
   ]
  },
  {
   "cell_type": "code",
   "execution_count": null,
   "metadata": {},
   "outputs": [],
   "source": [
    "m.train(X_train,y_train,lr=1e-3,epochs=1_000,debug=100)"
   ]
  },
  {
   "cell_type": "code",
   "execution_count": 34,
   "metadata": {},
   "outputs": [
    {
     "name": "stdout",
     "output_type": "stream",
     "text": [
      "[[101   0]\n",
      " [ 53   0]]\n"
     ]
    }
   ],
   "source": [
    "preds = m.forward(X_test)\n",
    "preds_bin = (preds>=0.5).astype(int)\n",
    "from sklearn.metrics import classification_report,confusion_matrix\n",
    "print(confusion_matrix(y_test,preds_bin))"
   ]
  },
  {
   "cell_type": "code",
   "execution_count": null,
   "metadata": {},
   "outputs": [],
   "source": []
  }
 ],
 "metadata": {
  "kernelspec": {
   "display_name": "Python 3.8.2 64-bit ('home': conda)",
   "language": "python",
   "name": "python38264bithomeconda54863e2d9b68463e9c491399b87bb0e2"
  },
  "language_info": {
   "codemirror_mode": {
    "name": "ipython",
    "version": 3
   },
   "file_extension": ".py",
   "mimetype": "text/x-python",
   "name": "python",
   "nbconvert_exporter": "python",
   "pygments_lexer": "ipython3",
   "version": "3.8.2"
  }
 },
 "nbformat": 4,
 "nbformat_minor": 4
}
